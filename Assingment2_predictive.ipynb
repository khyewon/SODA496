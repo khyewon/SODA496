{
 "cells": [
  {
   "cell_type": "code",
   "execution_count": 1,
   "id": "f3060c3a",
   "metadata": {},
   "outputs": [],
   "source": [
    "import pandas as pd\n",
    "import numpy as np\n",
    "from sklearn.linear_model import LogisticRegression\n",
    "from sklearn.model_selection import train_test_split\n",
    "from sklearn.ensemble import RandomForestClassifier\n",
    "from sklearn.inspection import permutation_importance"
   ]
  },
  {
   "cell_type": "code",
   "execution_count": 2,
   "id": "15ea6485",
   "metadata": {},
   "outputs": [],
   "source": [
    "execution = pd.read_csv('execution_clean.csv')\n",
    "literacy = pd.read_csv('literacy_clean.csv')\n",
    "\n",
    "execution = execution.dropna()\n",
    "literacy = literacy.dropna()\n",
    "\n",
    "democracy = pd.read_csv('democracy_clean.csv')\n",
    "fragile = pd.read_csv('fragile.csv')"
   ]
  },
  {
   "cell_type": "code",
   "execution_count": 3,
   "id": "2a65458c",
   "metadata": {},
   "outputs": [],
   "source": [
    "execution = execution[['country', 'region', 'year', 'population', 'latest execution', 'executed']]\n",
    "democracy = democracy[['country', 'year', 'electoral democracy']]"
   ]
  },
  {
   "cell_type": "code",
   "execution_count": 4,
   "id": "ced58698",
   "metadata": {},
   "outputs": [],
   "source": [
    "EF = pd.merge(execution, fragile, on = ['country', 'year'])\n",
    "DL = pd.merge(democracy, literacy, on = ['country', 'year'])"
   ]
  },
  {
   "cell_type": "code",
   "execution_count": 5,
   "id": "18c70070",
   "metadata": {},
   "outputs": [],
   "source": [
    "my_df = pd.merge(EF, DL, on = ['country', 'year'], how = 'inner')"
   ]
  },
  {
   "cell_type": "code",
   "execution_count": 6,
   "id": "c3ef003b",
   "metadata": {},
   "outputs": [
    {
     "data": {
      "text/html": [
       "<div>\n",
       "<style scoped>\n",
       "    .dataframe tbody tr th:only-of-type {\n",
       "        vertical-align: middle;\n",
       "    }\n",
       "\n",
       "    .dataframe tbody tr th {\n",
       "        vertical-align: top;\n",
       "    }\n",
       "\n",
       "    .dataframe thead th {\n",
       "        text-align: right;\n",
       "    }\n",
       "</style>\n",
       "<table border=\"1\" class=\"dataframe\">\n",
       "  <thead>\n",
       "    <tr style=\"text-align: right;\">\n",
       "      <th></th>\n",
       "      <th>country</th>\n",
       "      <th>region</th>\n",
       "      <th>year</th>\n",
       "      <th>population</th>\n",
       "      <th>latest execution</th>\n",
       "      <th>executed</th>\n",
       "      <th>fragile index</th>\n",
       "      <th>electoral democracy</th>\n",
       "      <th>literacy rate</th>\n",
       "    </tr>\n",
       "  </thead>\n",
       "  <tbody>\n",
       "    <tr>\n",
       "      <th>0</th>\n",
       "      <td>Afghanistan</td>\n",
       "      <td>Asia</td>\n",
       "      <td>2011</td>\n",
       "      <td>28396000</td>\n",
       "      <td>2022</td>\n",
       "      <td>2.0</td>\n",
       "      <td>107.5</td>\n",
       "      <td>0.378</td>\n",
       "      <td>31.448851</td>\n",
       "    </tr>\n",
       "    <tr>\n",
       "      <th>1</th>\n",
       "      <td>Afghanistan</td>\n",
       "      <td>Asia</td>\n",
       "      <td>2021</td>\n",
       "      <td>28396000</td>\n",
       "      <td>2022</td>\n",
       "      <td>0.0</td>\n",
       "      <td>102.1</td>\n",
       "      <td>0.158</td>\n",
       "      <td>37.266041</td>\n",
       "    </tr>\n",
       "    <tr>\n",
       "      <th>2</th>\n",
       "      <td>Algeria</td>\n",
       "      <td>Africa</td>\n",
       "      <td>2008</td>\n",
       "      <td>36300000</td>\n",
       "      <td>1993</td>\n",
       "      <td>0.0</td>\n",
       "      <td>77.8</td>\n",
       "      <td>0.330</td>\n",
       "      <td>75.136047</td>\n",
       "    </tr>\n",
       "    <tr>\n",
       "      <th>3</th>\n",
       "      <td>Algeria</td>\n",
       "      <td>Africa</td>\n",
       "      <td>2018</td>\n",
       "      <td>36300000</td>\n",
       "      <td>1993</td>\n",
       "      <td>0.0</td>\n",
       "      <td>75.8</td>\n",
       "      <td>0.306</td>\n",
       "      <td>81.407837</td>\n",
       "    </tr>\n",
       "    <tr>\n",
       "      <th>4</th>\n",
       "      <td>Bahrain</td>\n",
       "      <td>Asia</td>\n",
       "      <td>2010</td>\n",
       "      <td>1046814</td>\n",
       "      <td>2019</td>\n",
       "      <td>1.0</td>\n",
       "      <td>58.8</td>\n",
       "      <td>0.223</td>\n",
       "      <td>90.977402</td>\n",
       "    </tr>\n",
       "    <tr>\n",
       "      <th>...</th>\n",
       "      <td>...</td>\n",
       "      <td>...</td>\n",
       "      <td>...</td>\n",
       "      <td>...</td>\n",
       "      <td>...</td>\n",
       "      <td>...</td>\n",
       "      <td>...</td>\n",
       "      <td>...</td>\n",
       "      <td>...</td>\n",
       "    </tr>\n",
       "    <tr>\n",
       "      <th>201</th>\n",
       "      <td>Vietnam</td>\n",
       "      <td>Asia</td>\n",
       "      <td>2009</td>\n",
       "      <td>89700000</td>\n",
       "      <td>2018</td>\n",
       "      <td>9.0</td>\n",
       "      <td>76.9</td>\n",
       "      <td>0.149</td>\n",
       "      <td>93.520447</td>\n",
       "    </tr>\n",
       "    <tr>\n",
       "      <th>202</th>\n",
       "      <td>Vietnam</td>\n",
       "      <td>Asia</td>\n",
       "      <td>2019</td>\n",
       "      <td>89700000</td>\n",
       "      <td>2018</td>\n",
       "      <td>0.0</td>\n",
       "      <td>66.1</td>\n",
       "      <td>0.149</td>\n",
       "      <td>95.753868</td>\n",
       "    </tr>\n",
       "    <tr>\n",
       "      <th>203</th>\n",
       "      <td>Zimbabwe</td>\n",
       "      <td>Africa</td>\n",
       "      <td>2011</td>\n",
       "      <td>16500000</td>\n",
       "      <td>2005</td>\n",
       "      <td>0.0</td>\n",
       "      <td>107.9</td>\n",
       "      <td>0.262</td>\n",
       "      <td>83.582710</td>\n",
       "    </tr>\n",
       "    <tr>\n",
       "      <th>204</th>\n",
       "      <td>Zimbabwe</td>\n",
       "      <td>Africa</td>\n",
       "      <td>2014</td>\n",
       "      <td>16500000</td>\n",
       "      <td>2005</td>\n",
       "      <td>0.0</td>\n",
       "      <td>102.8</td>\n",
       "      <td>0.296</td>\n",
       "      <td>88.693420</td>\n",
       "    </tr>\n",
       "    <tr>\n",
       "      <th>205</th>\n",
       "      <td>Zimbabwe</td>\n",
       "      <td>Africa</td>\n",
       "      <td>2021</td>\n",
       "      <td>16500000</td>\n",
       "      <td>2005</td>\n",
       "      <td>0.0</td>\n",
       "      <td>99.1</td>\n",
       "      <td>0.291</td>\n",
       "      <td>89.699997</td>\n",
       "    </tr>\n",
       "  </tbody>\n",
       "</table>\n",
       "<p>206 rows × 9 columns</p>\n",
       "</div>"
      ],
      "text/plain": [
       "         country  region  year  population  latest execution  executed  \\\n",
       "0    Afghanistan    Asia  2011    28396000              2022       2.0   \n",
       "1    Afghanistan    Asia  2021    28396000              2022       0.0   \n",
       "2        Algeria  Africa  2008    36300000              1993       0.0   \n",
       "3        Algeria  Africa  2018    36300000              1993       0.0   \n",
       "4        Bahrain    Asia  2010     1046814              2019       1.0   \n",
       "..           ...     ...   ...         ...               ...       ...   \n",
       "201      Vietnam    Asia  2009    89700000              2018       9.0   \n",
       "202      Vietnam    Asia  2019    89700000              2018       0.0   \n",
       "203     Zimbabwe  Africa  2011    16500000              2005       0.0   \n",
       "204     Zimbabwe  Africa  2014    16500000              2005       0.0   \n",
       "205     Zimbabwe  Africa  2021    16500000              2005       0.0   \n",
       "\n",
       "     fragile index  electoral democracy  literacy rate  \n",
       "0            107.5                0.378      31.448851  \n",
       "1            102.1                0.158      37.266041  \n",
       "2             77.8                0.330      75.136047  \n",
       "3             75.8                0.306      81.407837  \n",
       "4             58.8                0.223      90.977402  \n",
       "..             ...                  ...            ...  \n",
       "201           76.9                0.149      93.520447  \n",
       "202           66.1                0.149      95.753868  \n",
       "203          107.9                0.262      83.582710  \n",
       "204          102.8                0.296      88.693420  \n",
       "205           99.1                0.291      89.699997  \n",
       "\n",
       "[206 rows x 9 columns]"
      ]
     },
     "execution_count": 6,
     "metadata": {},
     "output_type": "execute_result"
    }
   ],
   "source": [
    "my_df"
   ]
  },
  {
   "cell_type": "markdown",
   "id": "ad1f5b80",
   "metadata": {},
   "source": [
    "## Prediction model"
   ]
  },
  {
   "cell_type": "code",
   "execution_count": 7,
   "id": "7ea1ee8c",
   "metadata": {},
   "outputs": [],
   "source": [
    "y = my_df['executed']"
   ]
  },
  {
   "cell_type": "code",
   "execution_count": 9,
   "id": "595f6c87",
   "metadata": {},
   "outputs": [
    {
     "name": "stdout",
     "output_type": "stream",
     "text": [
      "121.16129032258064\n",
      "0.7258064516129032\n"
     ]
    }
   ],
   "source": [
    "# Logistic Regression\n",
    "\n",
    "x = my_df.iloc[:, 6:]\n",
    "\n",
    "X_train, X_test, y_train, y_test = train_test_split(x, y, test_size = .3, random_state = 1)\n",
    "modelRegression = LogisticRegression(random_state = 1, solver = 'liblinear').fit(X_train, y_train)\n",
    "\n",
    "print(y_test.mean())\n",
    "print(modelRegression.score(X_test, y_test))"
   ]
  },
  {
   "cell_type": "code",
   "execution_count": 11,
   "id": "0fdf8b89",
   "metadata": {},
   "outputs": [
    {
     "name": "stdout",
     "output_type": "stream",
     "text": [
      "0.6935483870967742\n"
     ]
    }
   ],
   "source": [
    "# Random Forest\n",
    "\n",
    "x = my_df.iloc[:, 6:]\n",
    "\n",
    "X_train, X_test, y_train, y_test = train_test_split(x, y, test_size = .3, random_state = 1)\n",
    "modelForest = RandomForestClassifier(random_state = 0).fit(X_train, y_train)\n",
    "\n",
    "print(modelForest.score(X_test, y_test))"
   ]
  }
 ],
 "metadata": {
  "kernelspec": {
   "display_name": "Python 3 (ipykernel)",
   "language": "python",
   "name": "python3"
  },
  "language_info": {
   "codemirror_mode": {
    "name": "ipython",
    "version": 3
   },
   "file_extension": ".py",
   "mimetype": "text/x-python",
   "name": "python",
   "nbconvert_exporter": "python",
   "pygments_lexer": "ipython3",
   "version": "3.9.13"
  }
 },
 "nbformat": 4,
 "nbformat_minor": 5
}
